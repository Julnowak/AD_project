{
 "cells": [
  {
   "cell_type": "code",
   "execution_count": 1,
   "metadata": {},
   "outputs": [],
   "source": [
    "import datetime\n",
    "import json\n",
    "import time\n",
    "\n",
    "from asgiref.sync import sync_to_async\n",
    "from channels.generic.websocket import AsyncWebsocketConsumer\n",
    "from channels.layers import get_channel_layer\n",
    "# from .models import UserLike, Product, UserProduct, AppUser\n",
    "# from .serializers import UserLikeSerializer\n",
    "\n",
    "from sqlalchemy import create_engine, Column, Integer, String, Float, DateTime, Boolean, ForeignKey\n",
    "from sqlalchemy.orm import relationship, sessionmaker, declarative_base\n",
    "from sqlalchemy.sql import text"
   ]
  },
  {
   "cell_type": "code",
   "execution_count": null,
   "metadata": {},
   "outputs": [],
   "source": []
  }
 ],
 "metadata": {
  "kernelspec": {
   "display_name": ".venv",
   "language": "python",
   "name": "python3"
  },
  "language_info": {
   "codemirror_mode": {
    "name": "ipython",
    "version": 3
   },
   "file_extension": ".py",
   "mimetype": "text/x-python",
   "name": "python",
   "nbconvert_exporter": "python",
   "pygments_lexer": "ipython3",
   "version": "3.9.13"
  }
 },
 "nbformat": 4,
 "nbformat_minor": 2
}
